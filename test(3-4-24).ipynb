{
 "cells": [
  {
   "cell_type": "code",
   "execution_count": 1,
   "metadata": {},
   "outputs": [
    {
     "name": "stdout",
     "output_type": "stream",
     "text": [
      "[2, 4, 6, 8, 10]\n"
     ]
    }
   ],
   "source": [
    "l=[1,2,3,4,5,6,7,8,9,10]\n",
    "l1=[i for i in l if i&1==0]\n",
    "print(l1)"
   ]
  },
  {
   "cell_type": "code",
   "execution_count": 4,
   "metadata": {},
   "outputs": [
    {
     "name": "stdout",
     "output_type": "stream",
     "text": [
      "Person:name=Darsh,age=19,gender=m\n"
     ]
    }
   ],
   "source": [
    "class Person:\n",
    "    def __init__(self,name,age,gender):\n",
    "        self.name=name\n",
    "        self.age=age\n",
    "        self.gender=gender\n",
    "    def __str__(self):\n",
    "        return f\"Person:name={self.name},age={self.age},gender={self.gender}\"\n",
    "p=Person(\"Darsh\",19,'m')\n",
    "print(p)\n"
   ]
  },
  {
   "cell_type": "code",
   "execution_count": 6,
   "metadata": {},
   "outputs": [
    {
     "name": "stdout",
     "output_type": "stream",
     "text": [
      "['date', 'apple', 'banana', 'cherry']\n"
     ]
    }
   ],
   "source": [
    "fruit=['apple','banana','cherry','date']\n",
    "fruit1=sorted(fruit,key=lambda x:len(x))\n",
    "print(fruit1)"
   ]
  },
  {
   "cell_type": "code",
   "execution_count": 8,
   "metadata": {},
   "outputs": [
    {
     "name": "stdout",
     "output_type": "stream",
     "text": [
      "driving a car\n"
     ]
    }
   ],
   "source": [
    "class Vehicle:\n",
    "    def drive():\n",
    "        print(\"driving a vehicle\")\n",
    "class car(Vehicle):\n",
    "    def drive(self):\n",
    "        print(\"driving a car\")\n",
    "class Truck(Vehicle):\n",
    "    def drive(self):\n",
    "        print(\"driving a Truck\")\n",
    "class MotorCycle(Vehicle):\n",
    "    def drive(self):\n",
    "        print(\"driving a Motorcycle\")\n",
    "m=MotorCycle()\n",
    "m.drive()"
   ]
  }
 ],
 "metadata": {
  "kernelspec": {
   "display_name": "Python 3",
   "language": "python",
   "name": "python3"
  },
  "language_info": {
   "codemirror_mode": {
    "name": "ipython",
    "version": 3
   },
   "file_extension": ".py",
   "mimetype": "text/x-python",
   "name": "python",
   "nbconvert_exporter": "python",
   "pygments_lexer": "ipython3",
   "version": "3.11.5"
  }
 },
 "nbformat": 4,
 "nbformat_minor": 2
}
