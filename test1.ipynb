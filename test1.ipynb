{
 "cells": [
  {
   "cell_type": "code",
   "execution_count": 12,
   "metadata": {},
   "outputs": [
    {
     "name": "stdout",
     "output_type": "stream",
     "text": [
      "{'pizza': 10}\n",
      "{'pizza': 10, 'puffs': 12}\n",
      "{'pizza': 10, 'puffs': 12, 'cooldrinks': 5}\n",
      "'bill details:\n",
      "      no. of pizza:10\n",
      "     no. of piuffs=\"12\n",
      "     no. of cooldrinks=5\n",
      "     total price=1290\n"
     ]
    }
   ],
   "source": [
    "original_rate={'pizza':100,'puffs':20,'cooldrinks':10}\n",
    "bill={}\n",
    "total_price=0\n",
    "for i in range(3):\n",
    "    i=input(\"enter item\")\n",
    "    v=int(input(f\"enter no. of {i} brought\"))\n",
    "    bill[i]=v\n",
    "    print(bill)\n",
    "    \n",
    "for k,v in zip(original_rate,bill):\n",
    "    \n",
    "    total_price=total_price+original_rate[v]*bill[v]\n",
    "print(f''''bill details:\n",
    "      no. of pizza:{bill['pizza']}\n",
    "     no. of piuffs=\"{bill['puffs']}\n",
    "     no. of cooldrinks={bill['cooldrinks']}\n",
    "     total price={total_price}''')\n",
    "\n"
   ]
  },
  {
   "cell_type": "code",
   "execution_count": 9,
   "metadata": {},
   "outputs": [
    {
     "name": "stdout",
     "output_type": "stream",
     "text": [
      "False\n",
      "strings are not anagrams\n"
     ]
    }
   ],
   "source": [
    "9.#to check string are anagrams of each other\n",
    "str1=input(\"enter a string1\")\n",
    "str2=input(\"enter string2 \")\n",
    "flag=True\n",
    "print('i' in 'hello')\n",
    "for i in str1:\n",
    " if i in str2:\n",
    "        flag=True\n",
    "else:\n",
    "        flag=False\n",
    "if flag==True:\n",
    "    print(\"string are anagrams\")\n",
    "else:\n",
    "    print(\"strings are not anagrams\")"
   ]
  },
  {
   "cell_type": "code",
   "execution_count": 14,
   "metadata": {},
   "outputs": [
    {
     "name": "stdout",
     "output_type": "stream",
     "text": [
      "syrings is not palindrome\n"
     ]
    }
   ],
   "source": [
    "#10.#palindrome\n",
    "str1=input(\"enter a string1\")\n",
    "if str1==str1[::-1]:\n",
    "    print(\"string is palindrome\")\n",
    "else:\n",
    "    print(\"syrings is not palindrome\")"
   ]
  },
  {
   "cell_type": "code",
   "execution_count": 30,
   "metadata": {},
   "outputs": [
    {
     "name": "stdout",
     "output_type": "stream",
     "text": [
      "[23, 22, 24]\n"
     ]
    }
   ],
   "source": [
    "#8.\n",
    "arr=[23,22,24,8,9,10]\n",
    "li=[]\n",
    "l=len(arr)\n",
    "l1=l-1\n",
    "flag=True\n",
    "for i in range(0,l):\n",
    "    for j in range(1,l):\n",
    "        if arr[i]>arr[j]:\n",
    "            flag=True\n",
    "        else:\n",
    "            flag=False\n",
    "    if flag==True:\n",
    "        li.append(arr[i])\n",
    "print(li)\n",
    "            "
   ]
  },
  {
   "cell_type": "code",
   "execution_count": null,
   "metadata": {},
   "outputs": [],
   "source": [
    "#4.\n",
    "n=int(input(\"enter total no. of monkeys\"))\n",
    "k=int(input(\"enter no. of eatables banana by monkey\"))\n",
    "j=int(input(\"enter no. of peanuts eaten by monkey\"))\n",
    "m=int(input(\"enter total no. of bananas\"))\n",
    "p=int(\"enter total no. of peanuts\")\n",
    "no_of_monkey_left_on_tree=(m-k)"
   ]
  }
 ],
 "metadata": {
  "kernelspec": {
   "display_name": "Python 3",
   "language": "python",
   "name": "python3"
  },
  "language_info": {
   "codemirror_mode": {
    "name": "ipython",
    "version": 3
   },
   "file_extension": ".py",
   "mimetype": "text/x-python",
   "name": "python",
   "nbconvert_exporter": "python",
   "pygments_lexer": "ipython3",
   "version": "3.11.5"
  }
 },
 "nbformat": 4,
 "nbformat_minor": 2
}
